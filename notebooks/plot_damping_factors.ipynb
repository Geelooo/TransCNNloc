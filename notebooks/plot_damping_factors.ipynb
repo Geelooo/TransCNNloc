{
 "cells": [
  {
   "cell_type": "markdown",
   "metadata": {},
   "source": [
    "**This notebook visualizes the values of the LM damping factors learned by PixLoc (Figure 8).**"
   ]
  },
  {
   "cell_type": "code",
   "execution_count": 1,
   "metadata": {},
   "outputs": [],
   "source": [
    "%load_ext autoreload\n",
    "%autoreload 2\n",
    "\n",
    "import torch\n",
    "import numpy as np\n",
    "import matplotlib as mpl\n",
    "import matplotlib.pyplot as plt\n",
    "\n",
    "from pixloc.pixlib.utils.experiments import load_experiment\n",
    "from pixloc import run_CMU, run_Aachen,run_scripts"
   ]
  },
  {
   "cell_type": "markdown",
   "metadata": {},
   "source": [
    "# Read the damping values from the checkpoints"
   ]
  },
  {
   "cell_type": "code",
   "execution_count": 2,
   "metadata": {},
   "outputs": [
    {
     "name": "stderr",
     "output_type": "stream",
     "text": [
      "[03/17/2023 13:50:17 pixloc.pixlib.utils.experiments INFO] Loading checkpoint checkpoint_best.tar\n"
     ]
    },
    {
     "name": "stdout",
     "output_type": "stream",
     "text": [
      "Exeperiment pixloc_cmu\n"
     ]
    },
    {
     "name": "stderr",
     "output_type": "stream",
     "text": [
      "[03/17/2023 13:50:24 pixloc.pixlib.utils.experiments INFO] Loading checkpoint checkpoint_best.tar\n"
     ]
    },
    {
     "name": "stdout",
     "output_type": "stream",
     "text": [
      "[2.6220421e-06 1.9487187e-01 2.7632403e-05 5.9678365e-02 3.9695697e-06\n",
      " 1.9973192e-01]\n",
      "[2.7728197e-06 1.5658145e+00 2.1363121e-06 9.5236965e-04 2.6703519e-06\n",
      " 1.2797195e+00]\n",
      "[1.4191820e-06 7.8969780e+01 7.8280809e-06 1.6465056e+00 9.1288149e-01\n",
      " 3.5898445e+01]\n",
      "Exeperiment pixloc_megadepth\n"
     ]
    },
    {
     "name": "stderr",
     "output_type": "stream",
     "text": [
      "[03/17/2023 13:50:30 pixloc.pixlib.utils.experiments INFO] Loading checkpoint checkpoint_best.tar\n"
     ]
    },
    {
     "name": "stdout",
     "output_type": "stream",
     "text": [
      "[0.00752234 0.04603482 0.10710011 0.02939763 0.00580256 0.10944298]\n",
      "[0.00230701 0.01783912 0.06447375 0.00187383 0.00131778 0.37245804]\n",
      "[ 1.7751114   8.382447    2.755696    0.0809486   0.07561994 22.015648  ]\n",
      "Exeperiment pixloc_cmu\n",
      "[2.6220421e-06 1.9487187e-01 2.7632403e-05 5.9678365e-02 3.9695697e-06\n",
      " 1.9973192e-01]\n",
      "[2.7728197e-06 1.5658145e+00 2.1363121e-06 9.5236965e-04 2.6703519e-06\n",
      " 1.2797195e+00]\n",
      "[1.4191820e-06 7.8969780e+01 7.8280809e-06 1.6465056e+00 9.1288149e-01\n",
      " 3.5898445e+01]\n"
     ]
    }
   ],
   "source": [
    "experiments = {\n",
    "    'CMU': run_CMU.experiment,\n",
    "    'MD': run_Aachen.experiment,\n",
    "    '3P':run_scripts.experiment,\n",
    "}\n",
    "dampings = {}\n",
    "for k, exper in experiments.items():\n",
    "    print('Exeperiment', exper)\n",
    "    optimizer = load_experiment(exper).eval().optimizer\n",
    "    dampings[k] = []\n",
    "    for i in range(3):\n",
    "        with torch.no_grad():\n",
    "            damp = optimizer[i].dampingnet().cpu().numpy()\n",
    "        print(damp)\n",
    "        dampings[k].append(damp)"
   ]
  },
  {
   "cell_type": "markdown",
   "metadata": {},
   "source": [
    "# Plot the values at the coarse level"
   ]
  },
  {
   "cell_type": "code",
   "execution_count": 3,
   "metadata": {},
   "outputs": [
    {
     "data": {
      "image/png": "[encoded data removed]",
      "text/plain": [
       "<Figure size 720x216 with 1 Axes>"
      ]
     },
     "metadata": {
      "needs_background": "light"
     },
     "output_type": "display_data"
    }
   ],
   "source": [
    "mpl.rc('font', size=14)\n",
    "plt.figure(figsize=(10, 3))\n",
    "w = 0.3  # bar width\n",
    "idx = -1  # coarse level\n",
    "\n",
    "args = dict(width=w, zorder=10)\n",
    "plt.bar(np.arange(6)-w/2, dampings['CMU'][idx], color=(1, .5, .5), label='trained on CMU', **args)\n",
    "# plt.bar(np.arange(6)+w/2, dampings['MD'][idx], color='#5fa7d9', label='trained on MegaDepth', **args)\n",
    "# plt.bar(np.arange(6)+w/2, dampings['3P'][idx], color=(.7, .5, .5), label='trained on MegaDepth', **args)\n",
    "\n",
    "plt.xlabel('Components of the 6-DoF pose')\n",
    "plt.xticks(range(6), ('$t_x$', '$t_y$', '$t_z$', '$R_x$', '$R_y$', '$R_z$'))\n",
    "\n",
    "plt.yscale('log')\n",
    "plt.ylabel('Damping factor $\\lambda$')\n",
    "plt.ylim([1.1e-7, 200])\n",
    "plt.tight_layout()\n",
    "plt.grid(axis='y')\n",
    "plt.gca().set_zorder(20)\n",
    "plt.legend(ncol=2, bbox_to_anchor=(0.5, 1.2), loc='center');\n",
    "\n",
    "# plt.savefig('learned_damping_factors.pdf', bbox_inches='tight', pad_inches=0)"
   ]
  },
  {
   "cell_type": "code",
   "execution_count": null,
   "metadata": {},
   "outputs": [],
   "source": []
  }
 ],
 "metadata": {
  "kernelspec": {
   "display_name": "Python 3 (ipykernel)",
   "language": "python",
   "name": "python3"
  },
  "language_info": {
   "codemirror_mode": {
    "name": "ipython",
    "version": 3
   },
   "file_extension": ".py",
   "mimetype": "text/x-python",
   "name": "python",
   "nbconvert_exporter": "python",
   "pygments_lexer": "ipython3",
   "version": "3.8.13"
  }
 },
 "nbformat": 4,
 "nbformat_minor": 4
}
